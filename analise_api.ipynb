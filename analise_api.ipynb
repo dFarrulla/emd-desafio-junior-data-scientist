{
  "cells": [
    {
      "cell_type": "markdown",
      "metadata": {
        "id": "view-in-github",
        "colab_type": "text"
      },
      "source": [
        "<a href=\"https://colab.research.google.com/github/dFarrulla/emd-desafio-junior-data-scientist/blob/main/analise_api.ipynb\" target=\"_parent\"><img src=\"https://colab.research.google.com/assets/colab-badge.svg\" alt=\"Open In Colab\"/></a>"
      ]
    },
    {
      "cell_type": "markdown",
      "metadata": {
        "id": "etvMA4Gh0Qso"
      },
      "source": [
        "### Import das Bibliotecas"
      ]
    },
    {
      "cell_type": "code",
      "execution_count": null,
      "metadata": {
        "id": "aMJbZ62J0Qsw"
      },
      "outputs": [],
      "source": [
        "import requests\n",
        "import json\n",
        "from datetime import datetime as dt\n",
        "from collections import Counter, defaultdict\n",
        "import matplotlib.pyplot as plt\n",
        "import seaborn as sns\n",
        "import pandas as pd\n",
        "\n",
        "import streamlit as st\n",
        "\n"
      ]
    },
    {
      "cell_type": "markdown",
      "metadata": {
        "id": "VBdwpU4t0Qs0"
      },
      "source": [
        "## Questões\n",
        "\n",
        "#### 1. **Quantos feriados há no Brasil em todo o ano de 2024?**"
      ]
    },
    {
      "cell_type": "code",
      "execution_count": null,
      "metadata": {
        "id": "buUbadW00Qs0",
        "colab": {
          "base_uri": "https://localhost:8080/"
        },
        "outputId": "26abac79-88ca-4853-a559-37af18a61caa"
      },
      "outputs": [
        {
          "output_type": "stream",
          "name": "stdout",
          "text": [
            "Temos 14 feriados em 2024 no Brasil.\n"
          ]
        }
      ],
      "source": [
        "# Define a URL para a API de feriados públicos\n",
        "url = 'https://date.nager.at/api/v3/publicholidays/2024/BR'\n",
        "\n",
        "try:\n",
        "    resposta = requests.get(url)\n",
        "    resposta.raise_for_status()  # Levanta uma exceção para códigos de status HTTP ruins\n",
        "    feriados = resposta.json()\n",
        "\n",
        "    if isinstance(feriados, list):\n",
        "        print(f\"Temos {len(feriados)} feriados em 2024 no Brasil.\")\n",
        "    else:\n",
        "        print(\"Formato inesperado de dados.\")\n",
        "except requests.exceptions.RequestException as e:\n",
        "    print(f\"Erro na requisição: {e}\")"
      ]
    },
    {
      "cell_type": "markdown",
      "metadata": {
        "id": "pAsQJx1t0Qs2"
      },
      "source": [
        "R: Há 14 feriados durante o ano de 2024 no Brasil."
      ]
    },
    {
      "cell_type": "markdown",
      "metadata": {
        "id": "6IJ7Aqoq0Qs2"
      },
      "source": [
        "#### 2. **Qual mês de 2024 tem o maior número de feriados?**"
      ]
    },
    {
      "cell_type": "code",
      "source": [
        "# Inicializa um contador para os meses\n",
        "feriados_por_mes = Counter()\n",
        "\n",
        "# Itera sobre os feriados, incrementando a contagem para o mês correspondente\n",
        "for feriado in feriados:\n",
        "    mes = feriado.get('date', '')[5:7]  # Extrai o mês da data\n",
        "    if mes:\n",
        "        feriados_por_mes[mes] += 1\n",
        "    else:\n",
        "        print(f\"Aviso: Data inválida em '{feriado}'\")\n",
        "\n",
        "# Exibe o resultado\n",
        "print(dict(feriados_por_mes))"
      ],
      "metadata": {
        "colab": {
          "base_uri": "https://localhost:8080/"
        },
        "id": "GichCfvQYybb",
        "outputId": "2bf8c49f-bb3e-43d4-9623-d0227dd25202"
      },
      "execution_count": null,
      "outputs": [
        {
          "output_type": "stream",
          "name": "stdout",
          "text": [
            "{'01': 1, '02': 2, '03': 2, '04': 1, '05': 2, '07': 1, '09': 1, '10': 1, '11': 2, '12': 1}\n"
          ]
        }
      ]
    },
    {
      "cell_type": "markdown",
      "metadata": {
        "id": "4pgPg6il0Qs3"
      },
      "source": [
        "R: Dois feriados em cada mês. Fevereiro, Março, Maio e Novembro."
      ]
    },
    {
      "cell_type": "markdown",
      "metadata": {
        "id": "DwJDGrDl0Qs3"
      },
      "source": [
        "#### 3. **Quantos feriados em 2024 caem em dias de semana (segunda a sexta-feira)?**"
      ]
    },
    {
      "cell_type": "code",
      "execution_count": null,
      "metadata": {
        "colab": {
          "base_uri": "https://localhost:8080/"
        },
        "id": "0TCutJE30Qs4",
        "outputId": "a88409d0-fb1a-4de0-deb4-904364a97d7b"
      },
      "outputs": [
        {
          "output_type": "stream",
          "name": "stdout",
          "text": [
            "Há 9 feriados em dias de semana.\n"
          ]
        }
      ],
      "source": [
        "feriados_em_dia_de_semana = sum(1 for feriado in feriados if verifica_dia_da_semana(feriado['date']))\n",
        "\n",
        "print(f\"Há {feriados_em_dia_de_semana} feriados em dias de semana.\")"
      ]
    },
    {
      "cell_type": "markdown",
      "metadata": {
        "id": "n-c2443P0Qs4"
      },
      "source": [
        "Há 9 feriados em dias de semana."
      ]
    },
    {
      "cell_type": "markdown",
      "metadata": {
        "id": "1U2LFrCZ0Qs4"
      },
      "source": [
        "#### 4. **Qual foi a temperatura média em cada mês?**  \n",
        "   Utilize a Open-Meteo Historical Weather API para obter as temperaturas médias diárias no Rio de Janeiro de 01/01/2024 a 01/08/2024.\n",
        "   \n",
        "   Verificando nas fontes, o Rio de Janeiro corresponde à:\n",
        "   - Latitude: -22,9064; e\n",
        "   - Longitude: -43,1822."
      ]
    },
    {
      "cell_type": "code",
      "source": [
        "# Coordenadas e URL da API\n",
        "latitude, longitude = -22.9064, -43.1822\n",
        "url = f\"https://archive-api.open-meteo.com/v1/archive?latitude={latitude}&longitude={longitude}&start_date=2024-01-01&end_date=2024-08-01&daily=temperature_2m_max&temperature_unit=celsius&timezone=America/Sao_Paulo\"\n",
        "\n",
        "# Faz a requisição GET à API\n",
        "resposta = requests.get(url)\n",
        "\n",
        "if resposta.ok:  # Verifica se a requisição foi bem-sucedida\n",
        "    dados = resposta.json()\n",
        "\n",
        "    # Dicionário para armazenar as temperaturas mensais\n",
        "    temperaturas_mensais = defaultdict(list)\n",
        "\n",
        "    # Itera sobre as datas e temperaturas, agrupando por mês\n",
        "    for data, temp_max in zip(dados['daily']['time'], dados['daily']['temperature_2m_max']):\n",
        "        mes = data[:7]  # Extrai o mês da data no formato \"YYYY-MM\"\n",
        "        temperaturas_mensais[mes].append(temp_max)\n",
        "\n",
        "    # Calcula e imprime a temperatura média de cada mês\n",
        "    for mes, temps in temperaturas_mensais.items():\n",
        "        print(f\"Temperatura média em {mes}: {sum(temps) / len(temps):.2f}°C\")\n",
        "else:\n",
        "    print(f\"Erro ao acessar a API: {resposta.status_code}\")"
      ],
      "metadata": {
        "colab": {
          "base_uri": "https://localhost:8080/"
        },
        "id": "AqxMFgTFZmeY",
        "outputId": "845b86fa-17b4-462c-f058-16a3c969e10b"
      },
      "execution_count": null,
      "outputs": [
        {
          "output_type": "stream",
          "name": "stdout",
          "text": [
            "Temperatura média em 2024-01: 30.75°C\n",
            "Temperatura média em 2024-02: 31.57°C\n",
            "Temperatura média em 2024-03: 30.67°C\n",
            "Temperatura média em 2024-04: 30.18°C\n",
            "Temperatura média em 2024-05: 30.17°C\n",
            "Temperatura média em 2024-06: 28.64°C\n",
            "Temperatura média em 2024-07: 25.79°C\n",
            "Temperatura média em 2024-08: 26.70°C\n"
          ]
        }
      ]
    },
    {
      "cell_type": "markdown",
      "metadata": {
        "id": "ybH2Kd_i0Qs5"
      },
      "source": [
        "   \n",
        "#### 5. **Qual foi o tempo predominante em cada mês nesse período?**  \n",
        "   Utilize como referência para o código de tempo (_weather_code_) o seguinte link: [WMO Code](https://gist.github.com/stellasphere/9490c195ed2b53c707087c8c2db4ec0c)."
      ]
    },
    {
      "cell_type": "code",
      "execution_count": null,
      "metadata": {
        "colab": {
          "base_uri": "https://localhost:8080/"
        },
        "id": "9vQayyW00Qs5",
        "outputId": "a9b04790-b7d0-4aca-ab36-dfa5cfe6d41d"
      },
      "outputs": [
        {
          "output_type": "stream",
          "name": "stdout",
          "text": [
            "Tempo predominante em 2024-01: WMO Code 63\n",
            "Tempo predominante em 2024-02: WMO Code 51\n",
            "Tempo predominante em 2024-03: WMO Code 51\n",
            "Tempo predominante em 2024-04: WMO Code 3\n",
            "Tempo predominante em 2024-05: WMO Code 51\n",
            "Tempo predominante em 2024-06: WMO Code 1\n",
            "Tempo predominante em 2024-07: WMO Code 3\n",
            "Tempo predominante em 2024-08: WMO Code 2\n"
          ]
        }
      ],
      "source": [
        "# Coordenadas do Rio de Janeiro\n",
        "latitude = -22.9064\n",
        "longitude = -43.1822\n",
        "\n",
        "# URL da API Open-Meteo\n",
        "url = f\"https://archive-api.open-meteo.com/v1/archive?latitude={latitude}&longitude={longitude}&start_date=2024-01-01&end_date=2024-08-01&daily=weathercode&timezone=America/Sao_Paulo\"\n",
        "\n",
        "# Faz a requisição GET à API\n",
        "resposta = requests.get(url)\n",
        "\n",
        "# Verifica se a requisição foi bem-sucedida\n",
        "if resposta.status_code == 200:\n",
        "    dados = resposta.json()\n",
        "\n",
        "    # Dicionário para armazenar os códigos de tempo por mês\n",
        "    weather_codes_mensais = defaultdict(list)\n",
        "\n",
        "    # Itera sobre as datas e códigos de tempo diários\n",
        "    for i in range(len(dados['daily']['time'])):\n",
        "        data = dados['daily']['time'][i]\n",
        "        weather_code = dados['daily']['weathercode'][i]\n",
        "\n",
        "        # Extrai o mês da data\n",
        "        mes = dt.strptime(data, \"%Y-%m-%d\").strftime(\"%Y-%m\")\n",
        "\n",
        "        # Adiciona o código de tempo à lista correspondente ao mês\n",
        "        weather_codes_mensais[mes].append(weather_code)\n",
        "\n",
        "    # Determina o tempo predominante em cada mês\n",
        "    for mes, codes in weather_codes_mensais.items():\n",
        "        # Conta a frequência de cada código de tempo no mês\n",
        "        frequencia = Counter(codes)\n",
        "        # Encontra o código de tempo mais comum\n",
        "        tempo_predominante = frequencia.most_common(1)[0][0]\n",
        "        print(f\"Tempo predominante em {mes}: WMO Code {tempo_predominante}\")\n",
        "else:\n",
        "    print(f\"Erro ao acessar a API: {resposta.status_code}\")"
      ]
    },
    {
      "cell_type": "code",
      "source": [
        "# Coordenadas do Rio de Janeiro\n",
        "latitude = -22.9064\n",
        "longitude = -43.1822\n",
        "\n",
        "# URL da API Open-Meteo\n",
        "url = f\"https://archive-api.open-meteo.com/v1/archive?latitude={latitude}&longitude={longitude}&start_date=2024-01-01&end_date=2024-08-01&daily=weathercode&timezone=America/Sao_Paulo\"\n",
        "\n",
        "# Tabela de códigos WMO\n",
        "wmo_codes = {\n",
        " 0: \"Céu limpo\",\n",
        "    1: \"Céu limpo com poucas nuvens\",\n",
        "    2: \"Parcialmente nublado\",\n",
        "    3: \"Nublado\",\n",
        "    4: \"Nublado com chuvas leves\",\n",
        "    5: \"Chuva moderada\",\n",
        "    6: \"Chuva forte\",\n",
        "    7: \"Chuva intensa com trovoadas\",\n",
        "    8: \"Neve leve\",\n",
        "    9: \"Neve moderada\",\n",
        "    10: \"Neve forte\",\n",
        "    11: \"Neblina\",\n",
        "    12: \"Nevoeiro\",\n",
        "    13: \"Tempestade de areia\",\n",
        "    14: \"Tempestade de granizo\",\n",
        "    15: \"Chuvas fortes com granizo\",\n",
        "    51: \"Chuva leve\",\n",
        "    53: \"Chuva moderada\",\n",
        "    55: \"Chuva forte\",\n",
        "    61: \"Chuva leve com trovoadas\",\n",
        "    63: \"Chuva moderada com trovoadas\",\n",
        "    65: \"Chuva forte com trovoadas\",\n",
        "    71: \"Neve leve\",\n",
        "    73: \"Neve moderada\",\n",
        "    75: \"Neve forte\",\n",
        "    81: \"Chuva leve com granizo\",\n",
        "    82: \"Chuva moderada com granizo\",\n",
        "    83: \"Chuva forte com granizo\",\n",
        "    # Adicione mais códigos conforme necessário\n",
        "}\n",
        "\n",
        "# Faz a requisição GET à API\n",
        "resposta = requests.get(url)\n",
        "\n",
        "# Verifica se a requisição foi bem-sucedida\n",
        "if resposta.status_code == 200:\n",
        "    dados = resposta.json()\n",
        "\n",
        "    # Dicionário para armazenar os códigos de tempo por mês\n",
        "    weather_codes_mensais = defaultdict(list)\n",
        "\n",
        "    # Itera sobre as datas e códigos de tempo diários\n",
        "    for i in range(len(dados['daily']['time'])):\n",
        "        data = dados['daily']['time'][i]\n",
        "        weather_code = dados['daily']['weathercode'][i]\n",
        "\n",
        "        # Extrai o mês da data\n",
        "        mes = dt.strptime(data, \"%Y-%m-%d\").strftime(\"%Y-%m\")\n",
        "\n",
        "        # Adiciona o código de tempo à lista correspondente ao mês\n",
        "        weather_codes_mensais[mes].append(weather_code)\n",
        "\n",
        "    # Determina o tempo predominante em cada mês\n",
        "    for mes, codes in weather_codes_mensais.items():\n",
        "        # Conta a frequência de cada código de tempo no mês\n",
        "        frequencia = Counter(codes)\n",
        "        # Encontra o código de tempo mais comum\n",
        "        tempo_predominante = frequencia.most_common(1)[0][0]\n",
        "        # Converte o código de tempo para a descrição correspondente\n",
        "        descricao_tempo = wmo_codes.get(tempo_predominante, \"Código desconhecido\")\n",
        "        print(f\"Tempo predominante em {mes}: {descricao_tempo} (WMO Code {tempo_predominante})\")\n",
        "else:\n",
        "    print(f\"Erro ao acessar a API: {resposta.status_code}\")"
      ],
      "metadata": {
        "colab": {
          "base_uri": "https://localhost:8080/"
        },
        "id": "Ykc1l-gz8Jed",
        "outputId": "f9ec0528-c278-40b5-bb94-87c9d6fac0f5"
      },
      "execution_count": null,
      "outputs": [
        {
          "output_type": "stream",
          "name": "stdout",
          "text": [
            "Tempo predominante em 2024-01: Chuva moderada com trovoadas (WMO Code 63)\n",
            "Tempo predominante em 2024-02: Chuva leve (WMO Code 51)\n",
            "Tempo predominante em 2024-03: Chuva leve (WMO Code 51)\n",
            "Tempo predominante em 2024-04: Nublado (WMO Code 3)\n",
            "Tempo predominante em 2024-05: Chuva leve (WMO Code 51)\n",
            "Tempo predominante em 2024-06: Céu limpo com poucas nuvens (WMO Code 1)\n",
            "Tempo predominante em 2024-07: Nublado (WMO Code 3)\n",
            "Tempo predominante em 2024-08: Parcialmente nublado (WMO Code 2)\n"
          ]
        }
      ]
    },
    {
      "cell_type": "markdown",
      "source": [
        "Resposta:\n",
        "\n",
        "Tempo predominante em 2024-01: Chuva moderada com trovoadas (WMO Code 63)\n",
        "\n",
        "Tempo predominante em 2024-02: Chuva leve (WMO Code 51)\n",
        "\n",
        "Tempo predominante em 2024-03: Chuva leve (WMO Code 51)\n",
        "\n",
        "Tempo predominante em 2024-04: Nublado (WMO Code 3)\n",
        "\n",
        "Tempo predominante em 2024-05: Chuva leve (WMO Code 51)\n",
        "\n",
        "Tempo predominante em 2024-06: Céu limpo com poucas nuvens (WMO Code 1)\n",
        "\n",
        "Tempo predominante em 2024-07: Nublado (WMO Code 3)\n",
        "\n",
        "Tempo predominante em 2024-08: Parcialmente nublado (WMO Code 2)"
      ],
      "metadata": {
        "id": "zeblYCt8aJuw"
      }
    },
    {
      "cell_type": "markdown",
      "metadata": {
        "id": "b6T9CNAu0Qs5"
      },
      "source": [
        "#### 6. **Qual foi o tempo e a temperatura média em cada feriado de 01/01/2024 a 01/08/2024?**"
      ]
    },
    {
      "cell_type": "code",
      "execution_count": null,
      "metadata": {
        "colab": {
          "base_uri": "https://localhost:8080/"
        },
        "id": "vE8v5VlG0Qs6",
        "outputId": "101d6b7b-1780-4dde-a350-7b6bbcff7a60"
      },
      "outputs": [
        {
          "output_type": "stream",
          "name": "stdout",
          "text": [
            "Feriado em 2024-01-01:\n",
            "  Temperatura média: 24.85°C\n",
            "  Tempo predominante: Chuva leve (WMO Code 51)\n",
            "Feriado em 2024-02-12:\n",
            "  Temperatura média: 30.80°C\n",
            "  Tempo predominante: Céu limpo com poucas nuvens (WMO Code 1)\n",
            "Feriado em 2024-02-13:\n",
            "  Temperatura média: 31.15°C\n",
            "  Tempo predominante: Chuva leve (WMO Code 51)\n",
            "Feriado em 2024-03-29:\n",
            "  Temperatura média: 25.70°C\n",
            "  Tempo predominante: Chuva leve com trovoadas (WMO Code 61)\n",
            "Feriado em 2024-03-31:\n",
            "  Temperatura média: 24.70°C\n",
            "  Tempo predominante: Chuva moderada (WMO Code 53)\n",
            "Feriado em 2024-04-21:\n",
            "  Temperatura média: 23.50°C\n",
            "  Tempo predominante: Parcialmente nublado (WMO Code 2)\n",
            "Feriado em 2024-05-01:\n",
            "  Temperatura média: 28.35°C\n",
            "  Tempo predominante: Céu limpo (WMO Code 0)\n",
            "Feriado em 2024-05-30:\n",
            "  Temperatura média: 20.90°C\n",
            "  Tempo predominante: Chuva leve (WMO Code 51)\n",
            "Feriado em 2024-07-09:\n",
            "  Temperatura média: 21.95°C\n",
            "  Tempo predominante: Chuva moderada (WMO Code 53)\n",
            "Feriado em 2024-09-07: Dados meteorológicos não disponíveis\n",
            "Feriado em 2024-10-12: Dados meteorológicos não disponíveis\n",
            "Feriado em 2024-11-02: Dados meteorológicos não disponíveis\n",
            "Feriado em 2024-11-15: Dados meteorológicos não disponíveis\n",
            "Feriado em 2024-12-25: Dados meteorológicos não disponíveis\n"
          ]
        }
      ],
      "source": [
        "# Função para fazer requisições GET\n",
        "def get(url):\n",
        "    resposta = requests.get(url)\n",
        "    return resposta\n",
        "\n",
        "# Função para verificar se a data é um dia de semana\n",
        "def verifica_dia_da_semana(ui_data: str) -> bool:\n",
        "    data = dt.strptime(ui_data, \"%Y-%m-%d\")\n",
        "    return 0 <= data.weekday() <= 4\n",
        "\n",
        "# Coordenadas do Rio de Janeiro\n",
        "latitude = -22.9064\n",
        "longitude = -43.1822\n",
        "\n",
        "# URL da API Open-Meteo\n",
        "weather_url = f\"https://archive-api.open-meteo.com/v1/archive?latitude={latitude}&longitude={longitude}&start_date=2024-01-01&end_date=2024-08-01&daily=temperature_2m_max,temperature_2m_min,weathercode&timezone=America/Sao_Paulo\"\n",
        "\n",
        "# URL da API de Feriados\n",
        "holidays_url = \"https://date.nager.at/api/v3/publicholidays/2024/BR\"\n",
        "\n",
        "# Tabela de códigos WMO\n",
        "wmo_codes = {\n",
        "    0: \"Céu limpo\",\n",
        "    1: \"Céu limpo com poucas nuvens\",\n",
        "    2: \"Parcialmente nublado\",\n",
        "    3: \"Nublado\",\n",
        "    4: \"Nublado com chuvas leves\",\n",
        "    5: \"Chuva moderada\",\n",
        "    6: \"Chuva forte\",\n",
        "    7: \"Chuva intensa com trovoadas\",\n",
        "    8: \"Neve leve\",\n",
        "    9: \"Neve moderada\",\n",
        "    10: \"Neve forte\",\n",
        "    11: \"Neblina\",\n",
        "    12: \"Nevoeiro\",\n",
        "    13: \"Tempestade de areia\",\n",
        "    14: \"Tempestade de granizo\",\n",
        "    15: \"Chuvas fortes com granizo\",\n",
        "    51: \"Chuva leve\",\n",
        "    53: \"Chuva moderada\",\n",
        "    55: \"Chuva forte\",\n",
        "    61: \"Chuva leve com trovoadas\",\n",
        "    63: \"Chuva moderada com trovoadas\",\n",
        "    65: \"Chuva forte com trovoadas\",\n",
        "    71: \"Neve leve\",\n",
        "    73: \"Neve moderada\",\n",
        "    75: \"Neve forte\",\n",
        "    81: \"Chuva leve com granizo\",\n",
        "    82: \"Chuva moderada com granizo\",\n",
        "    83: \"Chuva forte com granizo\",\n",
        "}\n",
        "\n",
        "# Obtém os dados dos feriados\n",
        "feriados_resposta = get(holidays_url)\n",
        "feriados = feriados_resposta.json()\n",
        "\n",
        "# Obtém os dados meteorológicos\n",
        "weather_resposta = get(weather_url)\n",
        "weather_dados = weather_resposta.json()\n",
        "\n",
        "# Dicionário para armazenar as temperaturas e o tempo por data\n",
        "dados_feriados = {}\n",
        "\n",
        "# Preenche o dicionário com os feriados e suas datas\n",
        "for feriado in feriados:\n",
        "    data_feriado = feriado['date']\n",
        "    dados_feriados[data_feriado] = {'temperaturas': [], 'weathercodes': []}\n",
        "\n",
        "# Preenche o dicionário com as temperaturas e os códigos de tempo diários\n",
        "for i in range(len(weather_dados['daily']['time'])):\n",
        "    data = weather_dados['daily']['time'][i]\n",
        "    temp_max = weather_dados['daily']['temperature_2m_max'][i]\n",
        "    temp_min = weather_dados['daily']['temperature_2m_min'][i]\n",
        "    weather_code = weather_dados['daily']['weathercode'][i]\n",
        "\n",
        "    if data in dados_feriados:\n",
        "        dados_feriados[data]['temperaturas'].append((temp_max + temp_min) / 2)\n",
        "        dados_feriados[data]['weathercodes'].append(weather_code)\n",
        "\n",
        "# Calcula a temperatura média e o tempo para cada feriado\n",
        "for data_feriado, info in dados_feriados.items():\n",
        "    if info['temperaturas']:\n",
        "        temperatura_media = sum(info['temperaturas']) / len(info['temperaturas'])\n",
        "        tempo_predominante = Counter(info['weathercodes']).most_common(1)[0][0]\n",
        "        descricao_tempo = wmo_codes.get(tempo_predominante, \"Código desconhecido\")\n",
        "        print(f\"Feriado em {data_feriado}:\")\n",
        "        print(f\"  Temperatura média: {temperatura_media:.2f}°C\")\n",
        "        print(f\"  Tempo predominante: {descricao_tempo} (WMO Code {tempo_predominante})\")\n",
        "    else:\n",
        "        print(f\"Feriado em {data_feriado}: Dados meteorológicos não disponíveis\")"
      ]
    },
    {
      "cell_type": "markdown",
      "source": [
        "Resposta:\n",
        "\n",
        "###Feriado em 2024-01-01 Ano Novo:\n",
        "\n",
        "  Temperatura média: 24.85°C\n",
        "\n",
        "  Tempo predominante: Chuva leve (WMO Code 51)\n",
        "\n",
        "###Feriado em 2024-02-12 Carnaval:\n",
        "\n",
        "  Temperatura média: 30.80°C\n",
        "\n",
        "  Tempo predominante: Céu limpo com poucas nuvens (WMO Code 1)\n",
        "\n",
        "###Feriado em 2024-02-13 Carnaval:\n",
        "\n",
        "  Temperatura média: 31.15°C\n",
        "\n",
        "  Tempo predominante: Chuva leve (WMO Code 51)\n",
        "\n",
        "###Feriado em 2024-03-29 Sexta-feira Santa:\n",
        "\n",
        "  Temperatura média: 25.70°C\n",
        "\n",
        "  Tempo predominante: Chuva leve com trovoadas (WMO Code 61)\n",
        "\n",
        "###Feriado em 2024-03-31 Páscoa:\n",
        "\n",
        "  Temperatura média: 24.70°C\n",
        "\n",
        "  Tempo predominante: Chuva moderada (WMO Code 53)\n",
        "\n",
        "###Feriado em 2024-04-21 Tiradentes:\n",
        "\n",
        "  Temperatura média: 23.50°C\n",
        "\n",
        "  Tempo predominante: Parcialmente nublado (WMO Code 2)\n",
        "\n",
        "###Feriado em 2024-05-01 Dia do Trabalho:\n",
        "\n",
        "  Temperatura média: 28.35°C\n",
        "\n",
        "  Tempo predominante: Céu limpo (WMO Code 0)\n",
        "\n",
        "###Feriado em 2024-05-30 Corpus Christi:\n",
        "\n",
        "  Temperatura média: 20.90°C\n",
        "\n",
        "  Tempo predominante: Chuva leve (WMO Code 51)\n",
        "\n",
        "###Feriado em 2024-07-09:\n",
        "(Em 2024, o dia 9 de julho não é feriado nacional, mas é feriado estadual em São Paulo, onde se comemora o Dia da Revolução Constitucionalista. Fiquei em dúvida pq a questão não cita nacional)\n",
        "\n",
        "  Temperatura média: 21.95°C\n",
        "\n",
        "  Tempo predominante: Chuva moderada (WMO Code 53)"
      ],
      "metadata": {
        "id": "6lmOU-uQb5PI"
      }
    },
    {
      "cell_type": "markdown",
      "metadata": {
        "id": "m3U27ZhT0Qs6"
      },
      "source": [
        "#### 7. **Considere as seguintes suposições:**\n",
        "   - O cidadão carioca considera \"frio\" um dia cuja temperatura média é menor que 20ºC;\n",
        "   - Um feriado bem aproveitado no Rio de Janeiro é aquele em que se pode ir à praia;\n",
        "   - O cidadão carioca só vai à praia quando não está com frio;\n",
        "   - O cidadão carioca também só vai à praia em dias com sol, evitando dias **totalmente** nublados ou chuvosos (considere _weather_code_ para determinar as condições climáticas).\n",
        "\n",
        "   Houve algum feriado \"não aproveitável\" em 2024? Se sim, qual(is)?"
      ]
    },
    {
      "cell_type": "code",
      "source": [
        "# Função para fazer requisições GET\n",
        "def get(url):\n",
        "    resposta = requests.get(url)\n",
        "    return resposta\n",
        "\n",
        "# Coordenadas do Rio de Janeiro\n",
        "latitude = -22.9064\n",
        "longitude = -43.1822\n",
        "\n",
        "# URL da API Open-Meteo\n",
        "weather_url = f\"https://archive-api.open-meteo.com/v1/archive?latitude={latitude}&longitude={longitude}&start_date=2024-01-01&end_date=2024-08-01&daily=temperature_2m_max,temperature_2m_min,weathercode&timezone=America/Sao_Paulo\"\n",
        "\n",
        "# URL da API de Feriados\n",
        "holidays_url = \"https://date.nager.at/api/v3/publicholidays/2024/BR\"\n",
        "\n",
        "# Tabela de códigos WMO\n",
        "wmo_codes = {\n",
        "    0: \"Céu limpo\",\n",
        "    1: \"Céu limpo com poucas nuvens\",\n",
        "    2: \"Parcialmente nublado\",\n",
        "    3: \"Nublado\",\n",
        "    4: \"Nublado com chuvas leves\",\n",
        "    5: \"Chuva moderada\",\n",
        "    6: \"Chuva forte\",\n",
        "    7: \"Chuva intensa com trovoadas\",\n",
        "    8: \"Neve leve\",\n",
        "    9: \"Neve moderada\",\n",
        "    10: \"Neve forte\",\n",
        "    11: \"Neblina\",\n",
        "    12: \"Nevoeiro\",\n",
        "    13: \"Tempestade de areia\",\n",
        "    14: \"Tempestade de granizo\",\n",
        "    15: \"Chuvas fortes com granizo\",\n",
        "    51: \"Chuva leve\",\n",
        "    53: \"Chuva moderada\",\n",
        "    55: \"Chuva forte\",\n",
        "    61: \"Chuva leve com trovoadas\",\n",
        "    63: \"Chuva moderada com trovoadas\",\n",
        "    65: \"Chuva forte com trovoadas\",\n",
        "    71: \"Neve leve\",\n",
        "    73: \"Neve moderada\",\n",
        "    75: \"Neve forte\",\n",
        "    81: \"Chuva leve com granizo\",\n",
        "    82: \"Chuva moderada com granizo\",\n",
        "    83: \"Chuva forte com granizo\",\n",
        "}\n",
        "\n",
        "# Obtém os dados dos feriados\n",
        "feriados_resposta = get(holidays_url)\n",
        "feriados = feriados_resposta.json()\n",
        "\n",
        "# Obtém os dados meteorológicos\n",
        "weather_resposta = get(weather_url)\n",
        "weather_dados = weather_resposta.json()\n",
        "\n",
        "# Dicionário para armazenar as temperaturas e o tempo por data\n",
        "dados_feriados = {}\n",
        "\n",
        "# Preenche o dicionário com os feriados e suas datas\n",
        "for feriado in feriados:\n",
        "    data_feriado = feriado['date']\n",
        "    dados_feriados[data_feriado] = {'temperaturas': [], 'weathercodes': []}\n",
        "\n",
        "# Preenche o dicionário com as temperaturas e os códigos de tempo diários\n",
        "for i in range(len(weather_dados['daily']['time'])):\n",
        "    data = weather_dados['daily']['time'][i]\n",
        "    temp_max = weather_dados['daily']['temperature_2m_max'][i]\n",
        "    temp_min = weather_dados['daily']['temperature_2m_min'][i]\n",
        "    weather_code = weather_dados['daily']['weathercode'][i]\n",
        "\n",
        "    if data in dados_feriados:\n",
        "        dados_feriados[data]['temperaturas'].append((temp_max + temp_min) / 2)\n",
        "        dados_feriados[data]['weathercodes'].append(weather_code)\n",
        "\n",
        "# Função para identificar feriados não aproveitáveis\n",
        "def non_enjoyable_holidays(holiday_weather_info):\n",
        "    non_enjoyable = []\n",
        "    for date, info in holiday_weather_info.items():\n",
        "        if info['temperaturas']:\n",
        "            temperatura_media = sum(info['temperaturas']) / len(info['temperaturas'])\n",
        "            tempo_predominante = Counter(info['weathercodes']).most_common(1)[0][0]\n",
        "            if temperatura_media < 20 or tempo_predominante not in [0, 1, 2, 3]:\n",
        "                non_enjoyable.append({\n",
        "                    \"data\": date,\n",
        "                    \"temperatura_média\": temperatura_media,\n",
        "                    \"tempo_predominante\": wmo_codes.get(tempo_predominante, \"Código desconhecido\")\n",
        "                })\n",
        "    return non_enjoyable\n",
        "\n",
        "# Obtém os feriados não aproveitáveis\n",
        "feriados_nao_aproveitaveis = non_enjoyable_holidays(dados_feriados)\n",
        "\n",
        "# Exibe os resultados\n",
        "if feriados_nao_aproveitaveis:\n",
        "    print(\"Feriados não aproveitáveis em 2024:\")\n",
        "    for feriado in feriados_nao_aproveitaveis:\n",
        "        print(f\"Data: {feriado['data']}, Temperatura média: {feriado['temperatura_média']:.2f}°C, Tempo predominante: {feriado['tempo_predominante']}\")\n",
        "else:\n",
        "    print(\"Não houve feriados não aproveitáveis em 2024.\")\n"
      ],
      "metadata": {
        "colab": {
          "base_uri": "https://localhost:8080/"
        },
        "id": "NUETXdxcPz29",
        "outputId": "3f3cb2cc-af90-4b90-f208-115b192777f3"
      },
      "execution_count": null,
      "outputs": [
        {
          "output_type": "stream",
          "name": "stdout",
          "text": [
            "Feriados não aproveitáveis em 2024:\n",
            "Data: 2024-01-01, Temperatura média: 24.85°C, Tempo predominante: Chuva leve\n",
            "Data: 2024-02-13, Temperatura média: 31.15°C, Tempo predominante: Chuva leve\n",
            "Data: 2024-03-29, Temperatura média: 25.70°C, Tempo predominante: Chuva leve com trovoadas\n",
            "Data: 2024-03-31, Temperatura média: 24.70°C, Tempo predominante: Chuva moderada\n",
            "Data: 2024-05-30, Temperatura média: 20.90°C, Tempo predominante: Chuva leve\n",
            "Data: 2024-07-09, Temperatura média: 21.95°C, Tempo predominante: Chuva moderada\n"
          ]
        }
      ]
    },
    {
      "cell_type": "markdown",
      "source": [
        "Resposta: Foram 6 Feriados não aproveitáveis em 2024:\n",
        "\n",
        "Data: 2024-01-01, Temperatura média: 24.85°C, Tempo predominante: Chuva leve\n",
        "\n",
        "Data: 2024-02-13, Temperatura média: 31.15°C, Tempo predominante: Chuva leve\n",
        "\n",
        "Data: 2024-03-29, Temperatura média: 25.70°C, Tempo predominante: Chuva leve com trovoadas\n",
        "\n",
        "Data: 2024-03-31, Temperatura média: 24.70°C, Tempo predominante: Chuva moderada\n",
        "\n",
        "Data: 2024-05-30, Temperatura média: 20.90°C, Tempo predominante: Chuva leve\n",
        "\n",
        "Data: 2024-07-09, Temperatura média: 21.95°C, Tempo predominante: Chuva moderada"
      ],
      "metadata": {
        "id": "XtjFF6t9fs33"
      }
    },
    {
      "cell_type": "markdown",
      "metadata": {
        "id": "m21bwrAg0Qs6"
      },
      "source": [
        "#### 8. **Qual foi o feriado \"mais aproveitável\" de 2024?**  \n",
        "   Considere o melhor par tempo e temperatura."
      ]
    },
    {
      "cell_type": "code",
      "source": [
        "# Função para fazer requisições GET\n",
        "def get(url):\n",
        "    resposta = requests.get(url)\n",
        "    return resposta\n",
        "\n",
        "# Coordenadas do Rio de Janeiro\n",
        "latitude = -22.9064\n",
        "longitude = -43.1822\n",
        "\n",
        "# URL da API Open-Meteo\n",
        "weather_url = f\"https://archive-api.open-meteo.com/v1/archive?latitude={latitude}&longitude={longitude}&start_date=2024-01-01&end_date=2024-08-01&daily=temperature_2m_max,temperature_2m_min,weathercode&timezone=America/Sao_Paulo\"\n",
        "\n",
        "# URL da API de Feriados\n",
        "holidays_url = \"https://date.nager.at/api/v3/publicholidays/2024/BR\"\n",
        "\n",
        "# Tabela de códigos WMO\n",
        "wmo_codes = {\n",
        "    0: \"Céu limpo\",\n",
        "    1: \"Céu limpo com poucas nuvens\",\n",
        "    2: \"Parcialmente nublado\",\n",
        "    3: \"Nublado\",\n",
        "    4: \"Nublado com chuvas leves\",\n",
        "    5: \"Chuva moderada\",\n",
        "    6: \"Chuva forte\",\n",
        "    7: \"Chuva intensa com trovoadas\",\n",
        "    8: \"Neve leve\",\n",
        "    9: \"Neve moderada\",\n",
        "    10: \"Neve forte\",\n",
        "    11: \"Neblina\",\n",
        "    12: \"Nevoeiro\",\n",
        "    13: \"Tempestade de areia\",\n",
        "    14: \"Tempestade de granizo\",\n",
        "    15: \"Chuvas fortes com granizo\",\n",
        "    51: \"Chuva leve\",\n",
        "    53: \"Chuva moderada\",\n",
        "    55: \"Chuva forte\",\n",
        "    61: \"Chuva leve com trovoadas\",\n",
        "    63: \"Chuva moderada com trovoadas\",\n",
        "    65: \"Chuva forte com trovoadas\",\n",
        "    71: \"Neve leve\",\n",
        "    73: \"Neve moderada\",\n",
        "    75: \"Neve forte\",\n",
        "    81: \"Chuva leve com granizo\",\n",
        "    82: \"Chuva moderada com granizo\",\n",
        "    83: \"Chuva forte com granizo\",\n",
        "}\n",
        "\n",
        "# Obtém os dados dos feriados\n",
        "feriados_resposta = get(holidays_url)\n",
        "feriados = feriados_resposta.json()\n",
        "\n",
        "# Obtém os dados meteorológicos\n",
        "weather_resposta = get(weather_url)\n",
        "weather_dados = weather_resposta.json()\n",
        "\n",
        "# Dicionário para armazenar as temperaturas e o tempo por data\n",
        "dados_feriados = {}\n",
        "\n",
        "# Preenche o dicionário com os feriados e suas datas\n",
        "for feriado in feriados:\n",
        "    data_feriado = feriado['date']\n",
        "    dados_feriados[data_feriado] = {'temperaturas': [], 'weathercodes': []}\n",
        "\n",
        "# Preenche o dicionário com as temperaturas e os códigos de tempo diários\n",
        "for i in range(len(weather_dados['daily']['time'])):\n",
        "    data = weather_dados['daily']['time'][i]\n",
        "    temp_max = weather_dados['daily']['temperature_2m_max'][i]\n",
        "    temp_min = weather_dados['daily']['temperature_2m_min'][i]\n",
        "    weather_code = weather_dados['daily']['weathercode'][i]\n",
        "\n",
        "    if data in dados_feriados:\n",
        "        dados_feriados[data]['temperaturas'].append((temp_max + temp_min) / 2)\n",
        "        dados_feriados[data]['weathercodes'].append(weather_code)\n",
        "\n",
        "# Função para identificar o feriado mais aproveitável\n",
        "def best_holiday(holiday_weather_info):\n",
        "    melhor_feriado = None\n",
        "    melhor_criterio = -float('inf')  # Critério para maximizar\n",
        "\n",
        "    for date, info in holiday_weather_info.items():\n",
        "        if info['temperaturas']:\n",
        "            temperatura_media = sum(info['temperaturas']) / len(info['temperaturas'])\n",
        "            tempo_predominante = Counter(info['weathercodes']).most_common(1)[0][0]\n",
        "\n",
        "            # Critério para avaliar o feriado\n",
        "            if temperatura_media >= 20 and tempo_predominante in [0, 1, 2, 3]:\n",
        "                criterio = temperatura_media  # Aqui, usamos a temperatura como critério principal\n",
        "\n",
        "                if criterio > melhor_criterio:\n",
        "                    melhor_criterio = criterio\n",
        "                    melhor_feriado = {\n",
        "                        \"data\": date,\n",
        "                        \"temperatura_média\": temperatura_media,\n",
        "                        \"tempo_predominante\": wmo_codes.get(tempo_predominante, \"Código desconhecido\")\n",
        "                    }\n",
        "\n",
        "    return melhor_feriado\n",
        "\n",
        "# Obtém o feriado mais aproveitável\n",
        "feriado_mais_aproveitavel = best_holiday(dados_feriados)\n",
        "\n",
        "# Exibe o resultado\n",
        "if feriado_mais_aproveitavel:\n",
        "    print(f\"O feriado mais aproveitável em 2024 é:\")\n",
        "    print(f\"Data: {feriado_mais_aproveitavel['data']}, Temperatura média: {feriado_mais_aproveitavel['temperatura_média']:.2f}°C, Tempo predominante: {feriado_mais_aproveitavel['tempo_predominante']}\")\n",
        "else:\n",
        "    print(\"Não houve feriado aproveitável em 2024.\")\n",
        "############################################"
      ],
      "metadata": {
        "colab": {
          "base_uri": "https://localhost:8080/"
        },
        "id": "7AoNTULcQMkI",
        "outputId": "07fe56a7-fdc4-44ad-8b29-e209033d2a44"
      },
      "execution_count": null,
      "outputs": [
        {
          "output_type": "stream",
          "name": "stdout",
          "text": [
            "O feriado mais aproveitável em 2024 é:\n",
            "Data: 2024-02-12, Temperatura média: 30.80°C, Tempo predominante: Céu limpo com poucas nuvens\n"
          ]
        }
      ]
    },
    {
      "cell_type": "markdown",
      "source": [
        "Resposta:\n",
        "\n",
        " O feriado do carnaval foi o mais aproveitável em 2024:\n",
        "\n",
        "Data: 2024-02-12,\n",
        "\n",
        "Temperatura média: 30.80°C,\n",
        "\n",
        "Tempo predominante: Céu limpo com poucas nuvens"
      ],
      "metadata": {
        "id": "2vvVjn8rgJDj"
      }
    }
  ],
  "metadata": {
    "kernelspec": {
      "display_name": "Python 3",
      "language": "python",
      "name": "python3"
    },
    "language_info": {
      "codemirror_mode": {
        "name": "ipython",
        "version": 3
      },
      "file_extension": ".py",
      "mimetype": "text/x-python",
      "name": "python",
      "nbconvert_exporter": "python",
      "pygments_lexer": "ipython3",
      "version": "3.11.1"
    },
    "colab": {
      "provenance": [],
      "include_colab_link": true
    }
  },
  "nbformat": 4,
  "nbformat_minor": 0
}